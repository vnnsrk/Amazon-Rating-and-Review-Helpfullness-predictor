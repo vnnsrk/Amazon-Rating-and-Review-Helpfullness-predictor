{
 "cells": [
  {
   "cell_type": "code",
   "execution_count": null,
   "metadata": {
    "collapsed": true
   },
   "outputs": [],
   "source": [
    "__author__ = \"Srinath Narayanan\""
   ]
  },
  {
   "cell_type": "code",
   "execution_count": 1,
   "metadata": {
    "collapsed": true
   },
   "outputs": [],
   "source": [
    "import gzip\n",
    "import numpy as np\n",
    "from collections import defaultdict\n",
    "# import nltk\n",
    "# from nltk.sentiment import SentimentAnalyzer\n",
    "# from nltk.sentiment.vader import SentimentIntensityAnalyzer"
   ]
  },
  {
   "cell_type": "code",
   "execution_count": 2,
   "metadata": {
    "collapsed": true
   },
   "outputs": [],
   "source": [
    "def readGz(f):\n",
    "  ret = []\n",
    "  for l in gzip.open(f):\n",
    "    ret.append(eval(l))\n",
    "  return ret"
   ]
  },
  {
   "cell_type": "code",
   "execution_count": 3,
   "metadata": {
    "collapsed": true
   },
   "outputs": [],
   "source": [
    "data = readGz(\"../Data/train.json.gz\")"
   ]
  },
  {
   "cell_type": "code",
   "execution_count": 51,
   "metadata": {
    "collapsed": true
   },
   "outputs": [],
   "source": [
    "testData = readGz(\"../Data/test_Helpful.json.gz\")"
   ]
  },
  {
   "cell_type": "code",
   "execution_count": 9,
   "metadata": {},
   "outputs": [
    {
     "name": "stdout",
     "output_type": "stream",
     "text": [
      "These are cute, but they are a little small.  When I put them on, my legs stretch the fabric making the black fade out.\n",
      "{'neg': 0.0, 'neu': 0.913, 'pos': 0.087, 'compound': 0.25}\n",
      "[0.0, 0.913, 0.087, 0.25]\n"
     ]
    }
   ],
   "source": [
    "sid = SentimentIntensityAnalyzer()\n",
    "ss = sid.polarity_scores(train_data[0]['reviewText'])\n",
    "print train_data[0]['reviewText']\n",
    "print ss\n",
    "print ss.values()"
   ]
  },
  {
   "cell_type": "code",
   "execution_count": 126,
   "metadata": {},
   "outputs": [
    {
     "name": "stdout",
     "output_type": "stream",
     "text": [
      "0.783737364232\n"
     ]
    }
   ],
   "source": [
    "alpha = 0\n",
    "c = 0\n",
    "for d in train_data:\n",
    "    outof = d['helpful']['outOf']\n",
    "    helpful = d['helpful']['nHelpful']\n",
    "    if outof == 0:\n",
    "        ratio = 0\n",
    "    else:\n",
    "        c += 1\n",
    "        ratio = helpful*1.0/outof\n",
    "    alpha += ratio\n",
    "alpha = alpha*1.0/c\n",
    "print alpha"
   ]
  },
  {
   "cell_type": "code",
   "execution_count": 148,
   "metadata": {
    "scrolled": true
   },
   "outputs": [
    {
     "name": "stdout",
     "output_type": "stream",
     "text": [
      "0.258702157422\n"
     ]
    }
   ],
   "source": [
    "mae = 0\n",
    "for i in val_data:\n",
    "    outof = i['helpful']['outOf']\n",
    "    helpful = i['helpful']['nHelpful']\n",
    "    if outof != 0:\n",
    "        pred = alpha*outof\n",
    "        mae += np.abs(pred - helpful)\n",
    "mae = mae*1.0/len(val_data)\n",
    "print mae"
   ]
  },
  {
   "cell_type": "code",
   "execution_count": 128,
   "metadata": {},
   "outputs": [
    {
     "name": "stdout",
     "output_type": "stream",
     "text": [
      "[[  5.62218966e-01]\n",
      " [  2.11835412e-04]\n",
      " [  5.07029148e-02]]\n"
     ]
    }
   ],
   "source": [
    "tX = []\n",
    "tY = []\n",
    "for d in train_data:\n",
    "    rating = d['rating']\n",
    "    words = len(d['reviewText'].split())\n",
    "    outof = d['helpful']['outOf']\n",
    "    helpful = d['helpful']['nHelpful']\n",
    "    if outof != 0:\n",
    "        ratio = helpful*1.0/outof\n",
    "        tY.append(ratio)\n",
    "        tX.append([1,words,rating])\n",
    "tX = np.matrix(tX)\n",
    "tY = np.matrix(tY).T\n",
    "theta,residuals,rank,s = np.linalg.lstsq(tX, tY)\n",
    "print theta"
   ]
  },
  {
   "cell_type": "code",
   "execution_count": 131,
   "metadata": {},
   "outputs": [
    {
     "name": "stdout",
     "output_type": "stream",
     "text": [
      "0.240245808704\n"
     ]
    }
   ],
   "source": [
    "mae = 0\n",
    "for d in val_data:\n",
    "    rating = d['rating']\n",
    "    words = len(d['reviewText'].split())\n",
    "    outof = d['helpful']['outOf']\n",
    "    helpful = d['helpful']['nHelpful']\n",
    "    if outof != 0:\n",
    "        pred = (theta[0,0] + theta[1,0]*words + theta[2,0]*rating)*outof\n",
    "        mae += abs(pred - helpful)\n",
    "mae = mae*1.0/len(val_data)\n",
    "print mae"
   ]
  },
  {
   "cell_type": "code",
   "execution_count": 132,
   "metadata": {
    "collapsed": true
   },
   "outputs": [],
   "source": [
    "testData = readGz(\"../Data/test_Helpful.json.gz\")\n",
    "testJson = {}\n",
    "for l in testData:\n",
    "    testJson[l['reviewerID']+'-'+l['itemID']] = l"
   ]
  },
  {
   "cell_type": "code",
   "execution_count": 133,
   "metadata": {},
   "outputs": [
    {
     "data": {
      "text/plain": [
       "200000"
      ]
     },
     "execution_count": 133,
     "metadata": {},
     "output_type": "execute_result"
    }
   ],
   "source": [
    "len(ratingDict)"
   ]
  },
  {
   "cell_type": "code",
   "execution_count": 134,
   "metadata": {
    "collapsed": true
   },
   "outputs": [],
   "source": [
    "predictions = open(\"../Predictions/predictions_Helpful.txt\", 'w')\n",
    "for l in open(\"../Predictions/pairs_Helpful.txt\"):\n",
    "  if l.startswith(\"userID\"):\n",
    "    #header\n",
    "    predictions.write(l)\n",
    "    continue\n",
    "  u,i,outOf = l.strip().split('-')\n",
    "  outOf = int(outOf)\n",
    "  d = testJson[u+'-'+i]\n",
    "  rating = d['rating']\n",
    "  words = len(d['reviewText'].split())\n",
    "  pred = (theta[0,0] + theta[1,0]*words + theta[2,0]*rating)*outOf\n",
    "  predictions.write(u + '-' + i + '-' + str(outOf) + ',' + str(pred) + '\\n')\n",
    "predictions.close()"
   ]
  },
  {
   "cell_type": "code",
   "execution_count": 1,
   "metadata": {},
   "outputs": [
    {
     "name": "stdout",
     "output_type": "stream",
     "text": [
      "mae on kaggle : 0.23913\n",
      "Kaggle Username :vnnsrk\n"
     ]
    }
   ],
   "source": [
    "print \"mae on kaggle : 0.23913\\nKaggle Username :vnnsrk\""
   ]
  },
  {
   "cell_type": "code",
   "execution_count": 5,
   "metadata": {},
   "outputs": [
    {
     "name": "stdout",
     "output_type": "stream",
     "text": [
      "4.23198\n"
     ]
    }
   ],
   "source": [
    "alpha2 = 0\n",
    "for d in train_data:\n",
    "    alpha2 += d['rating']\n",
    "alpha2 = alpha2*1.0/len(train_data)\n",
    "print alpha2"
   ]
  },
  {
   "cell_type": "code",
   "execution_count": 6,
   "metadata": {
    "scrolled": true
   },
   "outputs": [
    {
     "name": "stdout",
     "output_type": "stream",
     "text": [
      "1.2264713284 0.8894957272\n"
     ]
    }
   ],
   "source": [
    "mse = 0\n",
    "mae = 0\n",
    "for d in val_data:\n",
    "    mse += (d['rating'] - alpha2)**2\n",
    "    mae += np.abs(d['rating'] - alpha2)\n",
    "mse = mse*1.0/len(val_data)\n",
    "mae = mae*1.0/len(val_data)\n",
    "print mse,mae"
   ]
  },
  {
   "cell_type": "code",
   "execution_count": 136,
   "metadata": {},
   "outputs": [
    {
     "data": {
      "text/plain": [
       "{'categories': [['Clothing, Shoes & Jewelry', 'Women'],\n",
       "  ['Clothing, Shoes & Jewelry',\n",
       "   'Novelty, Costumes & More',\n",
       "   'Novelty',\n",
       "   'Clothing',\n",
       "   'Women',\n",
       "   'Leggings']],\n",
       " 'categoryID': 0,\n",
       " 'helpful': {'nHelpful': 0, 'outOf': 0},\n",
       " 'itemID': 'I655355328',\n",
       " 'rating': 3.0,\n",
       " 'reviewHash': 'R115160670',\n",
       " 'reviewText': 'These are cute, but they are a little small.  When I put them on, my legs stretch the fabric making the black fade out.',\n",
       " 'reviewTime': '05 20, 2014',\n",
       " 'reviewerID': 'U745881038',\n",
       " 'summary': 'Cute',\n",
       " 'unixReviewTime': 1400544000}"
      ]
     },
     "execution_count": 136,
     "metadata": {},
     "output_type": "execute_result"
    }
   ],
   "source": [
    "data[0]"
   ]
  },
  {
   "cell_type": "code",
   "execution_count": 7,
   "metadata": {
    "collapsed": true
   },
   "outputs": [],
   "source": [
    "def prepareData():\n",
    "    np.random.shuffle(data)\n",
    "    train_data = data[0:len(data)-20000]\n",
    "    val_data = data[len(data)-20000:]\n",
    "    return train_data,val_data"
   ]
  },
  {
   "cell_type": "code",
   "execution_count": 54,
   "metadata": {
    "collapsed": true
   },
   "outputs": [],
   "source": [
    "ratingDict = {}\n",
    "for d in data:\n",
    "    u = d['reviewerID']\n",
    "    i = d['itemID']\n",
    "    ratingDict[u+'-'+i] = d['rating']"
   ]
  },
  {
   "cell_type": "code",
   "execution_count": null,
   "metadata": {
    "collapsed": true
   },
   "outputs": [],
   "source": []
  },
  {
   "cell_type": "code",
   "execution_count": 9,
   "metadata": {
    "collapsed": true
   },
   "outputs": [],
   "source": [
    "def coordDescent(data,alpha,beta_u,beta_i,reg):\n",
    "    num = 0\n",
    "    for d in data:\n",
    "        u = d['reviewerID']\n",
    "        i = d['itemID']\n",
    "        r = d['rating']\n",
    "        t1 = beta_u[utoi[u]]\n",
    "        t2 = beta_i[itoi[i]]\n",
    "        num += (r - (t1+t2))\n",
    "    alpha = num*1.0/len(data)\n",
    "    \n",
    "    for u in userToItem:\n",
    "        num = 0\n",
    "        for i in userToItem[u]:\n",
    "            r = ratingDict[u+'-'+i]\n",
    "            num += (r - alpha-beta_i[itoi[i]])\n",
    "        beta_u[utoi[u]] = num*1.0/(reg + len(userToItem[u]))\n",
    "    \n",
    "    for i in itemToUser:\n",
    "        num = 0\n",
    "        for u in itemToUser[i]:\n",
    "            r = ratingDict[u+'-'+i]\n",
    "            num += (r - alpha-beta_u[utoi[u]])\n",
    "        beta_i[itoi[i]] = num*1.0/(reg + len(itemToUser[i]))\n",
    "    return (alpha,beta_u,beta_i)\n",
    "    "
   ]
  },
  {
   "cell_type": "code",
   "execution_count": 10,
   "metadata": {
    "collapsed": true
   },
   "outputs": [],
   "source": [
    "def init(data):\n",
    "    utoi = {}\n",
    "    itoi = {}\n",
    "    userToItem = defaultdict(set)\n",
    "    itemToUser = defaultdict(set)\n",
    "    uctr = 0\n",
    "    ictr = 0\n",
    "    for d in data:\n",
    "        u = d['reviewerID']\n",
    "        i = d['itemID']\n",
    "        userToItem[u].add(i)\n",
    "        itemToUser[i].add(u)\n",
    "        if u not in utoi:\n",
    "            utoi[u] = uctr\n",
    "            uctr += 1\n",
    "        if i not in itoi:\n",
    "            itoi[i] = ictr\n",
    "            ictr += 1\n",
    "    return (utoi,itoi,userToItem,itemToUser)"
   ]
  },
  {
   "cell_type": "code",
   "execution_count": 115,
   "metadata": {
    "collapsed": true
   },
   "outputs": [],
   "source": [
    "def loss(data,alpha,beta_u,beta_i,reg):\n",
    "    ret = 0\n",
    "    for d in data:\n",
    "        u = d['reviewerID']\n",
    "        i = d['itemID']\n",
    "        r = d['rating']\n",
    "        t = alpha\n",
    "        if u in utoi :\n",
    "            t += beta_u[utoi[u]]\n",
    "        if i in itoi :\n",
    "            t += beta_i[itoi[i]]\n",
    "        ret += (t - r)**2\n",
    "#     s1 = 0\n",
    "#     for i in beta_u:\n",
    "#         s1 += (i**2)\n",
    "#     s2 = 0\n",
    "#     for i in beta_i:\n",
    "#         s2 += (i**2)\n",
    "    s1 = sum(beta_u)**2\n",
    "    s2 = sum(beta_i)**2 \n",
    "    ret += reg*(s1+ s2)\n",
    "    return ret"
   ]
  },
  {
   "cell_type": "code",
   "execution_count": 118,
   "metadata": {},
   "outputs": [
    {
     "name": "stdout",
     "output_type": "stream",
     "text": [
      "0 79711.8243684\n",
      "1 61755.845111\n",
      "2 53498.7268384\n",
      "3 48412.1801647\n",
      "4 45348.2123235\n",
      "5 43574.9562717\n",
      "6 42583.892198\n",
      "7 42044.9693568\n",
      "8 41758.0409664\n",
      "9 41607.7817149\n",
      "10 41530.1448423\n",
      "11 41490.4971326\n",
      "12 41470.4745223\n",
      "13 41460.4828738\n",
      "14 41455.5679003\n",
      "15 41453.1960159\n",
      "16 41452.0829298\n",
      "17 41451.5833832\n",
      "18 41451.3764211\n",
      "19 41451.3043998\n",
      "20 41451.2912182\n",
      "21 41451.3010688\n",
      "22 41451.3177796\n",
      "23 41451.3345577\n",
      "24 41451.3489543\n",
      "Final_loss =  41451.2912182\n",
      "MSE : 0.795445386224\n"
     ]
    }
   ],
   "source": [
    "train_data,val_data = prepareData()\n",
    "train_data = train_data + val_data\n",
    "(utoi,itoi,userToItem,itemToUser) = init(train_data)\n",
    "beta_i = np.random.randint(-1,1,size=(1,len(itoi)))\n",
    "beta_u = np.random.randint(-1,1,size=(1,len(utoi)))\n",
    "theta = alpha2\n",
    "beta_i = list(beta_i[0])\n",
    "beta_u = list(beta_u[0])\n",
    "iter = 0\n",
    "epsilon = 0.00000001\n",
    "prev_loss = 10000000000\n",
    "final_loss = 0\n",
    "threshold = 0\n",
    "reg = 5.45\n",
    "while iter < 200:\n",
    "    (theta,beta_u,beta_i) = coordDescent(train_data,theta,beta_u,beta_i,reg)\n",
    "    cur_loss = loss(val_data,theta,beta_u,beta_i,reg)\n",
    "    print iter,cur_loss\n",
    "    if (prev_loss - cur_loss) <= epsilon:\n",
    "        if threshold == 3:\n",
    "            break\n",
    "        else:\n",
    "            threshold += 1\n",
    "            prev_loss = cur_loss\n",
    "    else:\n",
    "        threshold = 0\n",
    "        final_loss = cur_loss\n",
    "        prev_loss = cur_loss\n",
    "    iter += 1\n",
    "print 'Final_loss = ',final_loss\n",
    "print 'MSE :',calcMSE()"
   ]
  },
  {
   "cell_type": "code",
   "execution_count": 119,
   "metadata": {
    "collapsed": true
   },
   "outputs": [],
   "source": [
    "predictions = open(\"../Predictions/predictions_Rating.txt\", 'w')\n",
    "for l in open(\"../Predictions/pairs_Rating.txt\"):\n",
    "  if l.startswith(\"userID\"):\n",
    "    #header\n",
    "    predictions.write(l)\n",
    "    continue\n",
    "  u,i = l.strip().split('-')\n",
    "  pred = theta\n",
    "  if u in utoi :\n",
    "    pred += beta_u[utoi[u]]\n",
    "  if i in itoi :\n",
    "    pred += beta_i[itoi[i]]\n",
    "  if pred > 5:\n",
    "    pred = 5\n",
    "  if pred < 1:\n",
    "    pred = 1\n",
    "  predictions.write(u + '-' + i + ',' + str(pred) + '\\n')\n",
    "predictions.close()"
   ]
  },
  {
   "cell_type": "code",
   "execution_count": 42,
   "metadata": {},
   "outputs": [
    {
     "data": {
      "text/plain": [
       "0.8533547529344567"
      ]
     },
     "execution_count": 42,
     "metadata": {},
     "output_type": "execute_result"
    }
   ],
   "source": [
    "calcMSE()"
   ]
  },
  {
   "cell_type": "code",
   "execution_count": 48,
   "metadata": {},
   "outputs": [
    {
     "name": "stdout",
     "output_type": "stream",
     "text": [
      "775222285.669 319575.646291 22387.9510894 22315.1181894 22315.0998989 \n",
      "lambda =  6\n",
      "Final_loss =  22315.100078\n",
      "MSE :  1.11575499474\n",
      "787710889.841 257553.940397 21911.9391839 21866.7206769 \n",
      "lambda =  6.25\n",
      "Final_loss =  21866.7124399\n",
      "MSE :  1.0933356167\n",
      "792108764.334 208624.857914 22102.7220643 22074.7781028 \n",
      "lambda =  6.5\n",
      "Final_loss =  22074.7740897\n",
      "MSE :  1.10373869807\n",
      "765239409.223 163496.221526 21811.3790055 21794.5260104 \n",
      "lambda =  6.75\n",
      "Final_loss =  21794.5243024\n",
      "MSE :  1.08972621044\n",
      "728087449.048 128840.067116 21746.94006 21736.839272 \n",
      "lambda =  7\n",
      "Final_loss =  21736.8384989\n",
      "MSE :  1.08684191806\n",
      "[22315.10007802447, 21866.712439944295, 22074.77408968422, 21794.524302431855, 21736.83849894401]\n"
     ]
    }
   ],
   "source": [
    "all_loss = []\n",
    "lambdas = [6,6.25,6.5,6.75,7]\n",
    "for reg in lambdas: \n",
    "    train_data,val_data = prepareData()\n",
    "    #train_data = train_data + val_data\n",
    "    (utoi,itoi,userToItem,itemToUser) = init(train_data)\n",
    "    beta_i = np.random.randint(-2,2,size=(1,len(itoi)))\n",
    "    beta_u = np.random.randint(-2,2,size=(1,len(utoi)))\n",
    "    theta = alpha2\n",
    "    beta_i = list(beta_i[0])\n",
    "    beta_u = list(beta_u[0])\n",
    "    iter = 0\n",
    "    threshold = 0\n",
    "    epsilon = 0.0001\n",
    "    prev_loss = 10000000000\n",
    "    final_loss = 0\n",
    "    while iter < 1000:\n",
    "        (theta,beta_u,beta_i) = coordDescent(train_data,theta,beta_u,beta_i,reg)\n",
    "        cur_loss = loss(val_data,theta,beta_u,beta_i,reg)\n",
    "        if iter%10 == 0:\n",
    "            print cur_loss,\n",
    "        if (prev_loss - cur_loss) <= epsilon:\n",
    "            if threshold == 3:\n",
    "                break\n",
    "            else:\n",
    "                threshold += 1\n",
    "                prev_loss = cur_loss\n",
    "        else:\n",
    "            threshold = 0\n",
    "            final_loss = cur_loss\n",
    "            prev_loss = cur_loss\n",
    "        iter += 1\n",
    "    all_loss.append(final_loss)\n",
    "    print '\\nlambda = ',reg\n",
    "    print 'Final_loss = ',final_loss\n",
    "    print 'MSE : ',calcMSE()\n",
    "\n",
    "print all_loss"
   ]
  },
  {
   "cell_type": "code",
   "execution_count": 98,
   "metadata": {
    "collapsed": true
   },
   "outputs": [],
   "source": [
    "def calcMSE():\n",
    "    mse = 0\n",
    "    for d in val_data:\n",
    "        r = d['rating']\n",
    "        u = d['reviewerID']\n",
    "        i = d['itemID']\n",
    "        pred = theta\n",
    "        if u in utoi :\n",
    "            pred += beta_u[utoi[u]]\n",
    "        if i in itoi :\n",
    "            pred += beta_i[itoi[i]]\n",
    "        if pred > 5:\n",
    "            pred = 5\n",
    "        if pred < 1:\n",
    "            pred = 1\n",
    "        mse += (pred-r)**2\n",
    "    mse = mse*1.0/len(val_data)\n",
    "    return mse\n"
   ]
  },
  {
   "cell_type": "code",
   "execution_count": 41,
   "metadata": {},
   "outputs": [
    {
     "data": {
      "text/plain": [
       "-4.9438559379666458e-07"
      ]
     },
     "execution_count": 41,
     "metadata": {},
     "output_type": "execute_result"
    }
   ],
   "source": [
    "np.sum(beta_i)"
   ]
  },
  {
   "cell_type": "code",
   "execution_count": 162,
   "metadata": {},
   "outputs": [
    {
     "data": {
      "text/plain": [
       "1.246112398671429"
      ]
     },
     "execution_count": 162,
     "metadata": {},
     "output_type": "execute_result"
    }
   ],
   "source": [
    "max(beta_i)"
   ]
  },
  {
   "cell_type": "code",
   "execution_count": 163,
   "metadata": {
    "scrolled": true
   },
   "outputs": [
    {
     "name": "stdout",
     "output_type": "stream",
     "text": [
      "MAX USER U816486110 1.51376872795\n",
      "MIN USER U052814411 -2.51254170188\n",
      "MAX ITEM I558325415 1.24611239867\n",
      "MIN ITEM I071368828 -2.37318572938\n"
     ]
    }
   ],
   "source": [
    "bu = np.matrix(beta_u)\n",
    "minbu = np.argmin(bu)\n",
    "maxbu = np.argmax(bu)\n",
    "for u in utoi:\n",
    "    if(utoi[u] == minbu):\n",
    "        minu = u\n",
    "    if(utoi[u] == maxbu):\n",
    "        maxu = u\n",
    "print \"MAX USER\",maxu,beta_u[maxbu]\n",
    "print \"MIN USER\",minu,beta_u[minbu]\n",
    "bi = np.matrix(beta_i)\n",
    "minbi = np.argmin(bi)\n",
    "maxbi = np.argmax(bi)\n",
    "for i in itoi:\n",
    "    if(itoi[i] == minbi):\n",
    "        mini = i\n",
    "    if(itoi[i] == maxbi):\n",
    "        maxi = i\n",
    "print \"MAX ITEM\",maxi,beta_i[maxbi]\n",
    "print \"MIN ITEM\",mini,beta_i[minbi]\n"
   ]
  },
  {
   "cell_type": "code",
   "execution_count": null,
   "metadata": {
    "collapsed": true
   },
   "outputs": [],
   "source": []
  }
 ],
 "metadata": {
  "anaconda-cloud": {},
  "kernelspec": {
   "display_name": "Python 2",
   "language": "python",
   "name": "python2"
  },
  "language_info": {
   "codemirror_mode": {
    "name": "ipython",
    "version": 2
   },
   "file_extension": ".py",
   "mimetype": "text/x-python",
   "name": "python",
   "nbconvert_exporter": "python",
   "pygments_lexer": "ipython2",
   "version": "2.7.13"
  }
 },
 "nbformat": 4,
 "nbformat_minor": 1
}
